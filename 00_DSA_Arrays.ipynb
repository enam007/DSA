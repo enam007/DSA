{
  "nbformat": 4,
  "nbformat_minor": 0,
  "metadata": {
    "colab": {
      "name": "00_DSA_Arrays.ipynb",
      "provenance": [],
      "authorship_tag": "ABX9TyOo6fupli3JnSZPY9gGP4BE",
      "include_colab_link": true
    },
    "kernelspec": {
      "name": "python3",
      "display_name": "Python 3"
    },
    "language_info": {
      "name": "python"
    }
  },
  "cells": [
    {
      "cell_type": "markdown",
      "metadata": {
        "id": "view-in-github",
        "colab_type": "text"
      },
      "source": [
        "<a href=\"https://colab.research.google.com/github/enam007/DSA/blob/main/00_DSA_Arrays.ipynb\" target=\"_parent\"><img src=\"https://colab.research.google.com/assets/colab-badge.svg\" alt=\"Open In Colab\"/></a>"
      ]
    },
    {
      "cell_type": "markdown",
      "metadata": {
        "id": "ZVDb4xNUYYnD"
      },
      "source": [
        "# Arrays\n",
        "> The best feature of arrays is random access, we can access aribitrary items in O(1) times \n",
        "\n",
        "* Manipulating last item in arrays(insertion or removal) is O(1) running time\n",
        "* Manipulating arbitrary item (insertion or removal) takes O(N) running time \n",
        "and if this kind of operations will dominate then array data structure is not the best option\n",
        "* Not dynamic\n",
        "* since it is not dynamic whenever the data structure is full we have to resize it in O(n) running time"
      ]
    },
    {
      "cell_type": "code",
      "metadata": {
        "colab": {
          "base_uri": "https://localhost:8080/"
        },
        "id": "_nXpQ0HVXLfa",
        "outputId": "3f8bd9f5-83c7-44b7-b070-d92c5b8c8468"
      },
      "source": [
        "# Creating arrays\n",
        "arr = [10,3,7,5]\n",
        "\n",
        "# accessing arbitrary elements using index\n",
        "print(arr[0])\n",
        "\n",
        "# Fetching all the items in array\n",
        "print(arr[:])\n",
        "\n",
        "#fetching first two items\n",
        "print(arr[0:2])\n",
        "\n",
        "# Get all the items except the last one\n",
        "print(arr[:-1])\n",
        "\n",
        "# Get all the items except the last two #arr[:-n]\n",
        "print(arr[:-2])\n",
        "\n",
        "# updating elements at index x\n",
        "arr[2]=2\n",
        "print(arr)"
      ],
      "execution_count": 7,
      "outputs": [
        {
          "output_type": "stream",
          "text": [
            "10\n",
            "[10, 3, 7, 5]\n",
            "[10, 3]\n",
            "[10, 3, 7]\n",
            "[10, 3]\n",
            "[10, 3, 2, 5]\n"
          ],
          "name": "stdout"
        }
      ]
    },
    {
      "cell_type": "markdown",
      "metadata": {
        "id": "m2IptUSxcW-m"
      },
      "source": [
        "Find the max in array\n",
        "> this is called linear search O(N)"
      ]
    },
    {
      "cell_type": "code",
      "metadata": {
        "colab": {
          "base_uri": "https://localhost:8080/"
        },
        "id": "MXqjjjvTaX55",
        "outputId": "c17e05a7-568d-4e3c-a5c1-118fd9016ac3"
      },
      "source": [
        "max =arr[0]\n",
        "for num in arr:\n",
        "  if max <= num:\n",
        "    max = num\n",
        "print(max) "
      ],
      "execution_count": 10,
      "outputs": [
        {
          "output_type": "stream",
          "text": [
            "10\n"
          ],
          "name": "stdout"
        }
      ]
    },
    {
      "cell_type": "markdown",
      "metadata": {
        "id": "qxnVz58deCzl"
      },
      "source": [
        "Reversing an array in-place overview\n",
        "Interview Question #1\n",
        "\n",
        ">The problem is that we want to reverse a` T[]` array in O(N) linear time complexity and we want the algorithm to be in-place as well - so no additional memory can be used!\n",
        "\n",
        ">For example: input is `[1,2,3,4,5] `then the output is `[5,4,3,2,1]`"
      ]
    },
    {
      "cell_type": "code",
      "metadata": {
        "colab": {
          "base_uri": "https://localhost:8080/"
        },
        "id": "YjOGuJ6qcEgd",
        "outputId": "bff1444a-ace6-4ed1-c511-f5ffe3198a44"
      },
      "source": [
        "arr =[1,2,3,4,5,6]\n",
        "end_index = len(arr)-1\n",
        "start_index =0\n",
        "while start_index<=end_index:\n",
        "  arr[start_index],arr[end_index] = arr[end_index],arr[start_index]\n",
        "  start_index+=1\n",
        "  end_index-=1\n",
        "\n",
        "print(arr)\n",
        "\n"
      ],
      "execution_count": 14,
      "outputs": [
        {
          "output_type": "stream",
          "text": [
            "[6, 5, 4, 3, 2, 1]\n"
          ],
          "name": "stdout"
        }
      ]
    },
    {
      "cell_type": "markdown",
      "metadata": {
        "id": "XyVhGT_dhI21"
      },
      "source": [
        "Palindrome problem overview\n",
        "Interview Question #2\n",
        "\n",
        "\"A palindrome is a string that reads the same forward and backward\"\n",
        "\n",
        "For example: `radar or madam`\n",
        "\n",
        "Our task is to design an optimal algorithm for checking whether a given string is palindrome or not! "
      ]
    },
    {
      "cell_type": "code",
      "metadata": {
        "colab": {
          "base_uri": "https://localhost:8080/"
        },
        "id": "49OVHN4Uf4W2",
        "outputId": "4d9cc0d3-bf54-40b2-adda-f39f1b3d3037"
      },
      "source": [
        "def is_palindrome(s):\n",
        "  original_string = s\n",
        "  start_index = 0\n",
        "  end_index =len(s)-1\n",
        "  s= list(s)\n",
        "  while start_index<=end_index:\n",
        "    s[start_index],s[end_index]=s[end_index],s[start_index]\n",
        "    start_index+=1\n",
        "    end_index-=1\n",
        "  reversed =\"\".join(s)\n",
        "  if reversed==original_string:\n",
        "    return True\n",
        "  return False\n",
        "\n",
        "is_palindrome(\"madame\")"
      ],
      "execution_count": 23,
      "outputs": [
        {
          "output_type": "execute_result",
          "data": {
            "text/plain": [
              "False"
            ]
          },
          "metadata": {
            "tags": []
          },
          "execution_count": 23
        }
      ]
    },
    {
      "cell_type": "markdown",
      "metadata": {
        "id": "_oV0P4dPjplT"
      },
      "source": [
        "Integer reversion problem overview\n",
        "Interview Question #3\n",
        "\n",
        "Our task is to design an efficient algorithm to reverse a given integer. For example if the input of the algorithm is `1234` then the output should be `4321`."
      ]
    },
    {
      "cell_type": "code",
      "metadata": {
        "colab": {
          "base_uri": "https://localhost:8080/"
        },
        "id": "9Lp-IdWMiTyd",
        "outputId": "faf9b561-e982-4b1c-a5b9-297161dbf5ad"
      },
      "source": [
        "def reverse_integer(nums):\n",
        "  original_num =nums\n",
        "  reversed =0\n",
        "  while nums > 0:\n",
        "    remainder = nums%10\n",
        "    nums = nums//10\n",
        "    reversed = (reversed*10)+remainder\n",
        "  return reversed\n",
        "reverse_integer(2345)"
      ],
      "execution_count": 32,
      "outputs": [
        {
          "output_type": "execute_result",
          "data": {
            "text/plain": [
              "5432"
            ]
          },
          "metadata": {
            "tags": []
          },
          "execution_count": 32
        }
      ]
    },
    {
      "cell_type": "code",
      "metadata": {
        "id": "99LwEJD3k_x9"
      },
      "source": [
        ""
      ],
      "execution_count": null,
      "outputs": []
    }
  ]
}