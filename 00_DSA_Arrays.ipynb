{
  "nbformat": 4,
  "nbformat_minor": 0,
  "metadata": {
    "colab": {
      "name": "00_DSA_Arrays.ipynb",
      "provenance": [],
      "authorship_tag": "ABX9TyN94TCu9elTSjUB4yBlswsq",
      "include_colab_link": true
    },
    "kernelspec": {
      "name": "python3",
      "display_name": "Python 3"
    },
    "language_info": {
      "name": "python"
    }
  },
  "cells": [
    {
      "cell_type": "markdown",
      "metadata": {
        "id": "view-in-github",
        "colab_type": "text"
      },
      "source": [
        "<a href=\"https://colab.research.google.com/github/enam007/DSA/blob/main/00_DSA_Arrays.ipynb\" target=\"_parent\"><img src=\"https://colab.research.google.com/assets/colab-badge.svg\" alt=\"Open In Colab\"/></a>"
      ]
    },
    {
      "cell_type": "markdown",
      "metadata": {
        "id": "ZVDb4xNUYYnD"
      },
      "source": [
        "# Arrays\n",
        "> The best feature of arrays is random access, we can access aribitrary items in O(1) times \n",
        "\n",
        "* Manipulating last item in arrays(insertion or removal) is O(1) running time\n",
        "* Manipulating arbitrary item (insertion or removal) takes O(N) running time \n",
        "and if this kind of operations will dominate then array data structure is not the best option\n",
        "* Not dynamic\n",
        "* since it is not dynamic whenever the data structure is full we have to resize it in O(n) running time"
      ]
    },
    {
      "cell_type": "code",
      "metadata": {
        "colab": {
          "base_uri": "https://localhost:8080/"
        },
        "id": "_nXpQ0HVXLfa",
        "outputId": "865bdd33-e9f7-4dbc-fa29-64c7a07c8a78"
      },
      "source": [
        "# Creating arrays\n",
        "arr = [10,3,7,5]\n",
        "\n",
        "# accessing arbitrary elements using index\n",
        "print(arr[0])\n",
        "\n",
        "# Fetching all the items in array\n",
        "print(arr[:])\n",
        "\n",
        "#fetching first two items\n",
        "print(arr[0:2])\n",
        "\n",
        "# Get all the items except the last one\n",
        "print(arr[:-1])\n",
        "\n",
        "# Get all the items except the last two #arr[:-n]\n",
        "print(arr[:-2])\n",
        "\n",
        "# updating elements at index x\n",
        "arr[2]=2\n",
        "print(arr)"
      ],
      "execution_count": 1,
      "outputs": [
        {
          "output_type": "stream",
          "text": [
            "10\n",
            "[10, 3, 7, 5]\n",
            "[10, 3]\n",
            "[10, 3, 7]\n",
            "[10, 3]\n",
            "[10, 3, 2, 5]\n"
          ],
          "name": "stdout"
        }
      ]
    },
    {
      "cell_type": "markdown",
      "metadata": {
        "id": "m2IptUSxcW-m"
      },
      "source": [
        "Find the max in array\n",
        "> this is called linear search O(N)"
      ]
    },
    {
      "cell_type": "code",
      "metadata": {
        "colab": {
          "base_uri": "https://localhost:8080/"
        },
        "id": "MXqjjjvTaX55",
        "outputId": "83d69428-7db3-4c69-ebfe-175188977f23"
      },
      "source": [
        "max =arr[0]\n",
        "for num in arr:\n",
        "  if max <= num:\n",
        "    max = num\n",
        "print(max) "
      ],
      "execution_count": 2,
      "outputs": [
        {
          "output_type": "stream",
          "text": [
            "10\n"
          ],
          "name": "stdout"
        }
      ]
    },
    {
      "cell_type": "markdown",
      "metadata": {
        "id": "qxnVz58deCzl"
      },
      "source": [
        "Reversing an array in-place overview\n",
        "Interview Question #1\n",
        "\n",
        ">The problem is that we want to reverse a` T[]` array in O(N) linear time complexity and we want the algorithm to be in-place as well - so no additional memory can be used!\n",
        "\n",
        ">For example: input is `[1,2,3,4,5] `then the output is `[5,4,3,2,1]`"
      ]
    },
    {
      "cell_type": "code",
      "metadata": {
        "colab": {
          "base_uri": "https://localhost:8080/"
        },
        "id": "YjOGuJ6qcEgd",
        "outputId": "33a533a7-5f7c-4d41-b41d-b8632cc9ea67"
      },
      "source": [
        "arr =[1,2,3,4,5,6]\n",
        "end_index = len(arr)-1\n",
        "start_index =0\n",
        "while start_index<=end_index:\n",
        "  arr[start_index],arr[end_index] = arr[end_index],arr[start_index]\n",
        "  start_index+=1\n",
        "  end_index-=1\n",
        "\n",
        "print(arr)\n",
        "\n"
      ],
      "execution_count": 3,
      "outputs": [
        {
          "output_type": "stream",
          "text": [
            "[6, 5, 4, 3, 2, 1]\n"
          ],
          "name": "stdout"
        }
      ]
    },
    {
      "cell_type": "markdown",
      "metadata": {
        "id": "XyVhGT_dhI21"
      },
      "source": [
        "Palindrome problem overview\n",
        "Interview Question #2\n",
        "\n",
        "\"A palindrome is a string that reads the same forward and backward\"\n",
        "\n",
        "For example: `radar or madam`\n",
        "\n",
        "Our task is to design an optimal algorithm for checking whether a given string is palindrome or not! "
      ]
    },
    {
      "cell_type": "code",
      "metadata": {
        "colab": {
          "base_uri": "https://localhost:8080/"
        },
        "id": "49OVHN4Uf4W2",
        "outputId": "ab59fb52-eb2e-427b-9487-5830747115d1"
      },
      "source": [
        "def is_palindrome(s):\n",
        "  original_string = s\n",
        "  start_index = 0\n",
        "  end_index =len(s)-1\n",
        "  s= list(s)\n",
        "  while start_index<=end_index:\n",
        "    s[start_index],s[end_index]=s[end_index],s[start_index]\n",
        "    start_index+=1\n",
        "    end_index-=1\n",
        "  reversed =\"\".join(s)\n",
        "  if reversed==original_string:\n",
        "    return True\n",
        "  return False\n",
        "\n",
        "is_palindrome(\"madame\")"
      ],
      "execution_count": 4,
      "outputs": [
        {
          "output_type": "execute_result",
          "data": {
            "text/plain": [
              "False"
            ]
          },
          "metadata": {
            "tags": []
          },
          "execution_count": 4
        }
      ]
    },
    {
      "cell_type": "markdown",
      "metadata": {
        "id": "_oV0P4dPjplT"
      },
      "source": [
        "Integer reversion problem overview\n",
        "Interview Question #3\n",
        "\n",
        "Our task is to design an efficient algorithm to reverse a given integer. For example if the input of the algorithm is `1234` then the output should be `4321`."
      ]
    },
    {
      "cell_type": "code",
      "metadata": {
        "colab": {
          "base_uri": "https://localhost:8080/"
        },
        "id": "9Lp-IdWMiTyd",
        "outputId": "42359ede-1868-400d-8876-9434746362b0"
      },
      "source": [
        "def reverse_integer(nums):\n",
        "  original_num =nums\n",
        "  reversed =0\n",
        "  while nums > 0:\n",
        "    remainder = nums%10\n",
        "    nums = nums//10\n",
        "    reversed = (reversed*10)+remainder\n",
        "  return reversed\n",
        "reverse_integer(2345)"
      ],
      "execution_count": 5,
      "outputs": [
        {
          "output_type": "execute_result",
          "data": {
            "text/plain": [
              "5432"
            ]
          },
          "metadata": {
            "tags": []
          },
          "execution_count": 5
        }
      ]
    },
    {
      "cell_type": "markdown",
      "metadata": {
        "id": "7bX2dQtFsNpC"
      },
      "source": [
        "Anagram problem overview\n",
        "Interview Question #4\n",
        "\n",
        "Construct an algorithm to check whether two words (or phrases) are anagrams or not!\n",
        "\n",
        "\"An anagram is a word or phrase formed by rearranging the letters of a different word or phrase, typically using all the original letters exactly once\"\n",
        "\n",
        "For example: `restful` and `fluster`"
      ]
    },
    {
      "cell_type": "code",
      "metadata": {
        "id": "7UoSHGw4v956"
      },
      "source": [
        "def sort_string(str1):\n",
        "  str1 = list(str1)\n",
        "  for j in range(1,len(str1)):\n",
        "    key = str1[j]\n",
        "    i = j-1\n",
        "    while i>=0 and ord(str1[i])> ord(key):\n",
        "      str1[i+1] = str1[i]\n",
        "      i = i-1\n",
        "    str1[i+1] = key\n",
        "  return str1"
      ],
      "execution_count": 25,
      "outputs": []
    },
    {
      "cell_type": "code",
      "metadata": {
        "id": "99LwEJD3k_x9"
      },
      "source": [
        "def is_anagram(str1, str2):\n",
        "  # if the length is not equal return false\n",
        "  if len(str1) != len(str2):\n",
        "    return False\n",
        "  # First we have to sort the letters of the string then compare the letters with the same index ...running time O(NlogN)\n",
        "  str1 = sort_string(str1)\n",
        "  str2 = sort_string(str2)\n",
        "  print(str1)\n",
        "  print(str2)\n",
        "  for i in range(len(str1)):\n",
        "    if str1[i] != str2[i]:\n",
        "      return False\n",
        "  return True\n",
        "\n"
      ],
      "execution_count": 26,
      "outputs": []
    },
    {
      "cell_type": "code",
      "metadata": {
        "colab": {
          "base_uri": "https://localhost:8080/"
        },
        "id": "LjWQ1RVkxndM",
        "outputId": "472632c2-35fc-42fb-9991-9e6f39a3cd24"
      },
      "source": [
        "is_anagram(\"restful\",\"fluster\")"
      ],
      "execution_count": 29,
      "outputs": [
        {
          "output_type": "stream",
          "text": [
            "['e', 'f', 'l', 'r', 's', 't', 'u']\n",
            "['e', 'f', 'l', 'r', 's', 't', 'u']\n"
          ],
          "name": "stdout"
        },
        {
          "output_type": "execute_result",
          "data": {
            "text/plain": [
              "True"
            ]
          },
          "metadata": {
            "tags": []
          },
          "execution_count": 29
        }
      ]
    },
    {
      "cell_type": "markdown",
      "metadata": {
        "id": "qyLTppg9zqDE"
      },
      "source": [
        "Duplicates in an array problem overview\n",
        "Interview Question #5\n",
        "\n",
        "The problem is that we want to find duplicates in a one-dimensional array of integers in O(N) running time where the integer values are smaller than the length of the array!\n",
        "\n",
        "For example: if we have a list `[1, 2, 3, 1, 5]` then the algorithm can detect that there are a duplicate with value 1.\n",
        "\n",
        "Note: the array can not contain items smaller than 0 and items with values greater than the size of the list. This is how we can achieve O(N) linear running time complexity!"
      ]
    },
    {
      "cell_type": "code",
      "metadata": {
        "colab": {
          "base_uri": "https://localhost:8080/"
        },
        "id": "995FvonQziKx",
        "outputId": "4254d6b0-0c77-4ebc-b7c7-9f134ab07bdd"
      },
      "source": [
        "def find_duplicates(nums):\n",
        "  # takes only O(N) running time\n",
        "  for num in nums:\n",
        "    if nums[abs(num)] >=0:\n",
        "      nums[abs(num)] = -nums[abs(num)]\n",
        "    else:\n",
        "      print(abs(num))\n",
        "\n",
        "    \n",
        "find_duplicates([1, 2, 3, 1, 4])\n",
        "\n",
        "# this method can not handle value smaller than 0 and greater than the length of array"
      ],
      "execution_count": 45,
      "outputs": [
        {
          "output_type": "stream",
          "text": [
            "1\n"
          ],
          "name": "stdout"
        }
      ]
    },
    {
      "cell_type": "code",
      "metadata": {
        "id": "UMJkj4Z-xzr5"
      },
      "source": [
        ""
      ],
      "execution_count": null,
      "outputs": []
    }
  ]
}